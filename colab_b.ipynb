{
  "cells": [
    {
      "cell_type": "markdown",
      "metadata": {},
      "source": [
        "[![Open In Colab](https://colab.research.google.com/assets/colab-badge.svg)](https://colab.research.google.com/github/daradija/pyroboadvisor/blob/main/colab_b.ipynb)"
      ]
    },
    {
      "cell_type": "markdown",
      "metadata": {
        "id": "f0FfWog0VWlh"
      },
      "source": [
        "# Agent IA - Py Robo Advisor"
      ]
    },
    {
      "cell_type": "markdown",
      "metadata": {
        "id": "rtkNyWgmusZ7"
      },
      "source": []
    },
    {
      "cell_type": "markdown",
      "metadata": {
        "id": "T_DUFJRDYEe9"
      },
      "source": [
        "# Primero lo primero... A1 vs S&P500"
      ]
    },
    {
      "cell_type": "markdown",
      "metadata": {
        "id": "cGYb7q8LYK-5"
      },
      "source": [
        "Antes de poder replicar A1 en la BMV necesitamos correr A1 normal (en aras de tener un entendimiento claro del paso a paso).\n",
        "Dado esta en esta sección se correrá A1"
      ]
    },
    {
      "cell_type": "code",
      "execution_count": null,
      "metadata": {
        "colab": {
          "base_uri": "https://localhost:8080/"
        },
        "id": "KOmbsJHYZIhJ",
        "outputId": "b3f5a837-8d53-48e4-cf1a-556291050fc1"
      },
      "outputs": [],
      "source": [
        "!apt-get install -y -qq git\n",
        "!git clone https://github.com/daradija/pyroboadvisor.git\n",
        "%cd pyroboadvisor\n",
        "!pip install -r requirements.txt"
      ]
    },
    {
      "cell_type": "markdown",
      "metadata": {
        "id": "y7Be44lnZf9d"
      },
      "source": [
        "Aquí se tendría que correr\n",
        "\n",
        "Para correr el pipiline de A1, dado que en este documento nos interesa entrar al detalle lo que haremos será pegar el código de sample.py que se encuentra en el repositorio, lo partiremos en distintos chunks para entender (y cuidar la ejecución ya que en findes el servidor de A1 tiene limitaciones por licencia para solo correr 1 vez por día la estrategia)"
      ]
    },
    {
      "cell_type": "code",
      "execution_count": null,
      "metadata": {
        "colab": {
          "base_uri": "https://localhost:8080/",
          "height": 1000
        },
        "id": "fnZ_0VxZZitw",
        "outputId": "3aeb8758-9c20-4593-c571-0852c6344d09"
      },
      "outputs": [],
      "source": [
        "# Sample.py - Parte 1\n",
        "from pyroboadvisor.pyroboadvisor import PyRoboAdvisor\n",
        "import pandas as pd\n",
        "\n",
        "# partir en servicio web\n",
        "# usuario y registrar uso\n",
        "# El simulador se ejecuta en los dos sitios y manda hash.\n",
        "today = pd.Timestamp.now().normalize()\n",
        "stoday = today.strftime(\"%Y-%m-%d\")\n",
        "p={\n",
        "    \"fecha_inicio\": \"2019-01-01\",\n",
        "    \"fecha_fin\": stoday,\n",
        "    \"money\": 100000,\n",
        "    \"numberStocksInPortfolio\": 10,\n",
        "    \"orderMarginBuy\": 0.005,  # margen de ordenes de compra y venta\n",
        "    \"orderMarginSell\": 0.005,  # margen de ordenes de compra y venta\n",
        "    \"apalancamiento\": 10 / 6,  # apalancamiento de las compras\n",
        "    \"ring_size\": 252,\n",
        "    \"rlog_size\": 22,\n",
        "    \"cabeza\": 5,\n",
        "    \"seeds\": 100,\n",
        "    \"percentil\": 95,\n",
        "    \"prediccion\": 5,\n",
        "    \"multiploMantenimiento\": 6,\n",
        "    \"b\":True,\n",
        "\n",
        "    \"key\": \"\",\n",
        "    \"email\": \"\",\n",
        "}\n",
        "\n",
        "\n",
        "\n",
        "p[\"rlog_size\"] = [11,22,44]\n",
        "from pyroboadvisor.download_us_money_supply import MakerUsMoneySupply\n",
        "mum = MakerUsMoneySupply(\"2018-01-01\")\n",
        "usms=[]\n",
        "for meses in [6,12]:\n",
        "    for percentil in [10,20,30,40,50,60,70,80,90]:\n",
        "        usms.append(mum.get(meses,percentil).date2usms)\n",
        "p[\"signoMultiplexado\"]=list(range(len(usms)))\n",
        "\n",
        "\n",
        "pra=PyRoboAdvisor(p)\n",
        "\n",
        "\n",
        "pra.readTickersFromWikipedia()\n",
        "pra.completeTickersWithIB()  # Completa los tickers de IB que no están en el SP500, para que pueda venderlos\n",
        "\n",
        "pra.prepare(signoMultiplexado=usms)  # Prepara los datos y la estrategia\n",
        "pra.simulate()\n",
        "\n",
        "pra.automatizeOrders()\n"
      ]
    }
  ],
  "metadata": {
    "colab": {
      "authorship_tag": "ABX9TyNd18vtRmHn3Z+uDfF2cGyz",
      "include_colab_link": true,
      "provenance": []
    },
    "kernelspec": {
      "display_name": ".venv (3.11.13)",
      "language": "python",
      "name": "python3"
    },
    "language_info": {
      "codemirror_mode": {
        "name": "ipython",
        "version": 3
      },
      "file_extension": ".py",
      "mimetype": "text/x-python",
      "name": "python",
      "nbconvert_exporter": "python",
      "pygments_lexer": "ipython3",
      "version": "3.11.13"
    }
  },
  "nbformat": 4,
  "nbformat_minor": 0
}
