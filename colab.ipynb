{
  "cells": [
    {
      "cell_type": "markdown",
      "metadata": {
        "colab_type": "text",
        "id": "view-in-github"
      },
      "source": [
        "<a href=\"https://colab.research.google.com/github/daradija/pyroboadvisor/blob/dev/colab.ipynb\" target=\"_parent\"><img src=\"https://colab.research.google.com/assets/colab-badge.svg\" alt=\"Open In Colab\"/></a>"
      ]
    },
    {
      "cell_type": "markdown",
      "metadata": {},
      "source": [
        "[![Open In Colab](https://colab.research.google.com/assets/colab-badge.svg)](https://colab.research.google.com/github/daradija/pyroboadvisor/colab.ipynb)"
      ]
    },
    {
      "cell_type": "markdown",
      "metadata": {
        "id": "f0FfWog0VWlh"
      },
      "source": [
        "# Agent IA - Py Robo Advisor"
      ]
    },
    {
      "cell_type": "markdown",
      "metadata": {
        "id": "rtkNyWgmusZ7"
      },
      "source": []
    },
    {
      "cell_type": "markdown",
      "metadata": {
        "id": "T_DUFJRDYEe9"
      },
      "source": [
        "# Primero lo primero... A1 vs S&P500"
      ]
    },
    {
      "cell_type": "markdown",
      "metadata": {
        "id": "cGYb7q8LYK-5"
      },
      "source": [
        "Antes de poder replicar A1 en la BMV necesitamos correr A1 normal (en aras de tener un entendimiento claro del paso a paso).\n",
        "Dado esta en esta sección se correrá A1"
      ]
    },
    {
      "cell_type": "code",
      "execution_count": 3,
      "metadata": {
        "colab": {
          "base_uri": "https://localhost:8080/"
        },
        "id": "KOmbsJHYZIhJ",
        "outputId": "b3f5a837-8d53-48e4-cf1a-556291050fc1"
      },
      "outputs": [
        {
          "name": "stdout",
          "output_type": "stream",
          "text": [
            "[Errno 2] No such file or directory: 'pyroboadvisor'\n",
            "/Users/drdj/Library/Mobile Documents/com~apple~CloudDocs/p25/pyroboadvisor\n",
            "Requirement already satisfied: yfinance<=0.2.61 in ./.venv/lib/python3.11/site-packages (from -r requirements.txt (line 1)) (0.2.61)\n",
            "Requirement already satisfied: pandas in ./.venv/lib/python3.11/site-packages (from -r requirements.txt (line 2)) (2.3.1)\n",
            "Requirement already satisfied: numpy in ./.venv/lib/python3.11/site-packages (from -r requirements.txt (line 3)) (2.3.1)\n",
            "Requirement already satisfied: plotly in ./.venv/lib/python3.11/site-packages (from -r requirements.txt (line 4)) (6.2.0)\n",
            "Requirement already satisfied: matplotlib in ./.venv/lib/python3.11/site-packages (from -r requirements.txt (line 5)) (3.10.3)\n",
            "Requirement already satisfied: scipy in ./.venv/lib/python3.11/site-packages (from -r requirements.txt (line 6)) (1.16.0)\n",
            "Requirement already satisfied: lxml in ./.venv/lib/python3.11/site-packages (from -r requirements.txt (line 7)) (6.0.0)\n",
            "Requirement already satisfied: fastapi in ./.venv/lib/python3.11/site-packages (from -r requirements.txt (line 8)) (0.116.1)\n",
            "Requirement already satisfied: pydantic in ./.venv/lib/python3.11/site-packages (from -r requirements.txt (line 9)) (2.11.7)\n",
            "Requirement already satisfied: requests>=2.31 in ./.venv/lib/python3.11/site-packages (from yfinance<=0.2.61->-r requirements.txt (line 1)) (2.32.4)\n",
            "Requirement already satisfied: multitasking>=0.0.7 in ./.venv/lib/python3.11/site-packages (from yfinance<=0.2.61->-r requirements.txt (line 1)) (0.0.11)\n",
            "Requirement already satisfied: platformdirs>=2.0.0 in ./.venv/lib/python3.11/site-packages (from yfinance<=0.2.61->-r requirements.txt (line 1)) (4.3.8)\n",
            "Requirement already satisfied: pytz>=2022.5 in ./.venv/lib/python3.11/site-packages (from yfinance<=0.2.61->-r requirements.txt (line 1)) (2025.2)\n",
            "Requirement already satisfied: frozendict>=2.3.4 in ./.venv/lib/python3.11/site-packages (from yfinance<=0.2.61->-r requirements.txt (line 1)) (2.4.6)\n",
            "Requirement already satisfied: peewee>=3.16.2 in ./.venv/lib/python3.11/site-packages (from yfinance<=0.2.61->-r requirements.txt (line 1)) (3.18.2)\n",
            "Requirement already satisfied: beautifulsoup4>=4.11.1 in ./.venv/lib/python3.11/site-packages (from yfinance<=0.2.61->-r requirements.txt (line 1)) (4.13.4)\n",
            "Requirement already satisfied: curl_cffi>=0.7 in ./.venv/lib/python3.11/site-packages (from yfinance<=0.2.61->-r requirements.txt (line 1)) (0.12.0)\n",
            "Requirement already satisfied: protobuf>=3.19.0 in ./.venv/lib/python3.11/site-packages (from yfinance<=0.2.61->-r requirements.txt (line 1)) (6.31.1)\n",
            "Requirement already satisfied: websockets>=13.0 in ./.venv/lib/python3.11/site-packages (from yfinance<=0.2.61->-r requirements.txt (line 1)) (14.2)\n",
            "Requirement already satisfied: python-dateutil>=2.8.2 in ./.venv/lib/python3.11/site-packages (from pandas->-r requirements.txt (line 2)) (2.9.0.post0)\n",
            "Requirement already satisfied: tzdata>=2022.7 in ./.venv/lib/python3.11/site-packages (from pandas->-r requirements.txt (line 2)) (2025.2)\n",
            "Requirement already satisfied: narwhals>=1.15.1 in ./.venv/lib/python3.11/site-packages (from plotly->-r requirements.txt (line 4)) (1.47.0)\n",
            "Requirement already satisfied: packaging in ./.venv/lib/python3.11/site-packages (from plotly->-r requirements.txt (line 4)) (25.0)\n",
            "Requirement already satisfied: contourpy>=1.0.1 in ./.venv/lib/python3.11/site-packages (from matplotlib->-r requirements.txt (line 5)) (1.3.2)\n",
            "Requirement already satisfied: cycler>=0.10 in ./.venv/lib/python3.11/site-packages (from matplotlib->-r requirements.txt (line 5)) (0.12.1)\n",
            "Requirement already satisfied: fonttools>=4.22.0 in ./.venv/lib/python3.11/site-packages (from matplotlib->-r requirements.txt (line 5)) (4.58.5)\n",
            "Requirement already satisfied: kiwisolver>=1.3.1 in ./.venv/lib/python3.11/site-packages (from matplotlib->-r requirements.txt (line 5)) (1.4.8)\n",
            "Requirement already satisfied: pillow>=8 in ./.venv/lib/python3.11/site-packages (from matplotlib->-r requirements.txt (line 5)) (11.3.0)\n",
            "Requirement already satisfied: pyparsing>=2.3.1 in ./.venv/lib/python3.11/site-packages (from matplotlib->-r requirements.txt (line 5)) (3.2.3)\n",
            "Requirement already satisfied: starlette<0.48.0,>=0.40.0 in ./.venv/lib/python3.11/site-packages (from fastapi->-r requirements.txt (line 8)) (0.47.1)\n",
            "Requirement already satisfied: typing-extensions>=4.8.0 in ./.venv/lib/python3.11/site-packages (from fastapi->-r requirements.txt (line 8)) (4.14.1)\n",
            "Requirement already satisfied: annotated-types>=0.6.0 in ./.venv/lib/python3.11/site-packages (from pydantic->-r requirements.txt (line 9)) (0.7.0)\n",
            "Requirement already satisfied: pydantic-core==2.33.2 in ./.venv/lib/python3.11/site-packages (from pydantic->-r requirements.txt (line 9)) (2.33.2)\n",
            "Requirement already satisfied: typing-inspection>=0.4.0 in ./.venv/lib/python3.11/site-packages (from pydantic->-r requirements.txt (line 9)) (0.4.1)\n",
            "Requirement already satisfied: anyio<5,>=3.6.2 in ./.venv/lib/python3.11/site-packages (from starlette<0.48.0,>=0.40.0->fastapi->-r requirements.txt (line 8)) (4.9.0)\n",
            "Requirement already satisfied: idna>=2.8 in ./.venv/lib/python3.11/site-packages (from anyio<5,>=3.6.2->starlette<0.48.0,>=0.40.0->fastapi->-r requirements.txt (line 8)) (3.10)\n",
            "Requirement already satisfied: sniffio>=1.1 in ./.venv/lib/python3.11/site-packages (from anyio<5,>=3.6.2->starlette<0.48.0,>=0.40.0->fastapi->-r requirements.txt (line 8)) (1.3.1)\n",
            "Requirement already satisfied: soupsieve>1.2 in ./.venv/lib/python3.11/site-packages (from beautifulsoup4>=4.11.1->yfinance<=0.2.61->-r requirements.txt (line 1)) (2.7)\n",
            "Requirement already satisfied: cffi>=1.12.0 in ./.venv/lib/python3.11/site-packages (from curl_cffi>=0.7->yfinance<=0.2.61->-r requirements.txt (line 1)) (1.17.1)\n",
            "Requirement already satisfied: certifi>=2024.2.2 in ./.venv/lib/python3.11/site-packages (from curl_cffi>=0.7->yfinance<=0.2.61->-r requirements.txt (line 1)) (2025.7.14)\n",
            "Requirement already satisfied: pycparser in ./.venv/lib/python3.11/site-packages (from cffi>=1.12.0->curl_cffi>=0.7->yfinance<=0.2.61->-r requirements.txt (line 1)) (2.22)\n",
            "Requirement already satisfied: six>=1.5 in ./.venv/lib/python3.11/site-packages (from python-dateutil>=2.8.2->pandas->-r requirements.txt (line 2)) (1.17.0)\n",
            "Requirement already satisfied: charset_normalizer<4,>=2 in ./.venv/lib/python3.11/site-packages (from requests>=2.31->yfinance<=0.2.61->-r requirements.txt (line 1)) (3.4.2)\n",
            "Requirement already satisfied: urllib3<3,>=1.21.1 in ./.venv/lib/python3.11/site-packages (from requests>=2.31->yfinance<=0.2.61->-r requirements.txt (line 1)) (2.5.0)\n"
          ]
        }
      ],
      "source": [
        "%cd pyroboadvisor\n",
        "!pip install -r requirements.txt"
      ]
    },
    {
      "cell_type": "markdown",
      "metadata": {
        "id": "y7Be44lnZf9d"
      },
      "source": [
        "Aquí se tendría que correr\n",
        "\n",
        "```\n",
        "!python3 sample.py\n",
        "```\n",
        "\n",
        "Para correr el pipiline de A1, dado que en este documento nos interesa entrar al detalle lo que haremos será pegar el código de sample.py que se encuentra en el repositorio, lo partiremos en distintos chunks para entender (y cuidar la ejecución ya que en findes el servidor de A1 tiene limitaciones por licencia para solo correr 1 vez por día la estrategia)"
      ]
    },
    {
      "cell_type": "code",
      "execution_count": null,
      "metadata": {
        "colab": {
          "base_uri": "https://localhost:8080/",
          "height": 1000
        },
        "id": "fnZ_0VxZZitw",
        "outputId": "3aeb8758-9c20-4593-c571-0852c6344d09"
      },
      "outputs": [
        {
          "name": "stdout",
          "output_type": "stream",
          "text": [
            "\n",
            "Modo: \n",
            " 0. Solo simulación\n",
            " 5. Purgar caché\n",
            " 6. Source: Yahoo Finance\n",
            "\n",
            " Operar con broker:\n",
            "  1. Manual\n",
            "  2. Leer IB + Manual\n",
            "  3. Leer IB + Escribir IB\n",
            "  4. Igual que el último día que operé\n"
          ]
        }
      ],
      "source": [
        "# Sample.py - Parte 1\n",
        "from pyroboadvisor import PyRoboAdvisor\n",
        "import pandas as pd\n",
        "\n",
        "# partir en servicio web\n",
        "# usuario y registrar uso\n",
        "# El simulador se ejecuta en los dos sitios y manda hash.\n",
        "today = pd.Timestamp.now().normalize()\n",
        "stoday = today.strftime(\"%Y-%m-%d\")\n",
        "p={\n",
        "    \"fecha_inicio\": \"2019-01-01\",\n",
        "    \"fecha_fin\": stoday,\n",
        "    \"money\": 100000,\n",
        "    \"numberStocksInPortfolio\": 10,\n",
        "    \"orderMarginBuy\": 0.005,  # margen de ordenes de compra y venta\n",
        "    \"orderMarginSell\": 0.005,  # margen de ordenes de compra y venta\n",
        "    \"apalancamiento\": 10 / 6,  # apalancamiento de las compras\n",
        "    \"ring_size\": 252,\n",
        "    \"rlog_size\": 22,\n",
        "    \"cabeza\": 5,\n",
        "    \"seeds\": 100,\n",
        "    \"percentil\": 95,\n",
        "    \"prediccion\": 5,\n",
        "\n",
        "    \"key\": \"\",\n",
        "    \"email\": \"\",\n",
        "}\n",
        "\n",
        "pra=PyRoboAdvisor(p)\n",
        "\n",
        "\n",
        "pra.readTickersFromWikipedia()\n",
        "pra.completeTickersWithIB()  # Completa los tickers de IB que no están en el SP500, para que pueda venderlos\n",
        "\n",
        "pra.prepare()  # Prepara los datos y la estrategia\n",
        "pra.simulate()\n",
        "\n",
        "pra.automatizeOrders()\n"
      ]
    }
  ],
  "metadata": {
    "colab": {
      "authorship_tag": "ABX9TyNd18vtRmHn3Z+uDfF2cGyz",
      "include_colab_link": true,
      "provenance": []
    },
    "kernelspec": {
      "display_name": ".venv",
      "language": "python",
      "name": "python3"
    },
    "language_info": {
      "codemirror_mode": {
        "name": "ipython",
        "version": 3
      },
      "file_extension": ".py",
      "mimetype": "text/x-python",
      "name": "python",
      "nbconvert_exporter": "python",
      "pygments_lexer": "ipython3",
      "version": "3.11.13"
    }
  },
  "nbformat": 4,
  "nbformat_minor": 0
}
